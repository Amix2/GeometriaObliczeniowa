{
 "cells": [
  {
   "cell_type": "markdown",
   "metadata": {
    "collapsed": true
   },
   "source": [
    "# Laboratorium 2\n"
   ]
  },
  {
   "cell_type": "code",
   "execution_count": 1,
   "metadata": {},
   "outputs": [],
   "source": [
    "import numpy as np\n",
    "import matplotlib.pyplot as plt\n",
    "import matplotlib.collections as mcoll\n",
    "import matplotlib.colors as mcolors\n",
    "from matplotlib.widgets import Button\n",
    "import random\n",
    "import math\n",
    "import functools\n",
    "import time"
   ]
  },
  {
   "cell_type": "code",
   "execution_count": 2,
   "metadata": {},
   "outputs": [],
   "source": [
    "EPS = 10**(-13)\n",
    "\n",
    "def orient(a, b, c):\n",
    "    arr = np.array([ [a[0] - c[0], a[1] - c[1]], [b[0]-c[0], b[1]-c[1]] ])\n",
    "    det = np.linalg.det(arr)\n",
    "    #print(\"det\", det)\n",
    "    if det-EPS > 0: return 1\n",
    "    elif det+EPS < 0: return -1\n",
    "    else: return 0"
   ]
  },
  {
   "cell_type": "code",
   "execution_count": 18,
   "metadata": {},
   "outputs": [],
   "source": [
    "def intersect(a1, a2, b1, b2) :\n",
    "    o1 = orient( a1 , a2 , b1 )\n",
    "    o2 = orient( a1 , a2 , b2 )\n",
    "    o3 = orient( b1 , b2 , a1 )\n",
    "    o4 = orient( b1 , b2 , a2 )\n",
    "    if ( o1 != o2 ) and ( o3 != o4 ) :\n",
    "        return True\n",
    "    else:\n",
    "        return False\n",
    "\"\"\"\n",
    "http://www.izdebski.edu.pl/kategorie/Informatyka/Cwiczenie_02.pdf\n",
    "x_p = a1.x + t * dX_a1_a2\n",
    "y_p = a1.y + t * dY_a1_a2\n",
    "\n",
    "    dX_a1_b1 * dY_b1_b2 - dY_a1_b1 * dX_b1_b2\n",
    "t = -----------------------------------------\n",
    "    dX_a1_a2 * dY_b1_b2 - dY_a1_a2 * dX_b1_b2\n",
    "    \n",
    "\"\"\"\n",
    "def dX(a, b): return b[0] - a[0]\n",
    "def dY(a, b): return b[1] - a[1]\n",
    "def intersect_point(a1, a2, b1, b2):\n",
    "    dX_a1_a2 = dX(a1, a2)\n",
    "    dY_a1_a2 = dY(a1, a2)\n",
    "    \n",
    "    dX_a1_b1 = dX(a1, b1)\n",
    "    dY_b1_b2 = dY(b1, b2)\n",
    "    dY_a1_b1 = dY(a1, b1)\n",
    "    dX_b1_b2 = dX(b1, b2)\n",
    "    \n",
    "    dX_a1_a2 = dX(a1, a2)\n",
    "    dY_b1_b2 = dY(b1, b2)\n",
    "    dY_a1_a2 = dY(a1, a2)\n",
    "    dX_b1_b2 = dX(b1, b2)\n",
    "    \n",
    "    t = (dX_a1_b1 * dY_b1_b2 - dY_a1_b1 * dX_b1_b2) / (dX_a1_a2 * dY_b1_b2 - dY_a1_a2 * dX_b1_b2)\n",
    "    \n",
    "    return (a1[0] + t * dX_a1_a2, a1[1] + t * dY_a1_a2)\n",
    "    \n"
   ]
  },
  {
   "cell_type": "code",
   "execution_count": 21,
   "metadata": {},
   "outputs": [
    {
     "data": {
      "text/plain": [
       "(0.75, 0.75)"
      ]
     },
     "execution_count": 21,
     "metadata": {},
     "output_type": "execute_result"
    }
   ],
   "source": [
    "a1 = (0,0)\n",
    "a2 = (1, 1)\n",
    "b1 = (3,0)\n",
    "b2 = (0,1)\n",
    "intersect(a1, a2, b2, b1)\n",
    "intersect_point(a1, a2, b2, b1)"
   ]
  },
  {
   "cell_type": "code",
   "execution_count": null,
   "metadata": {},
   "outputs": [],
   "source": []
  }
 ],
 "metadata": {
  "kernelspec": {
   "display_name": "Python 3",
   "language": "python",
   "name": "python3"
  },
  "language_info": {
   "codemirror_mode": {
    "name": "ipython",
    "version": 3
   },
   "file_extension": ".py",
   "mimetype": "text/x-python",
   "name": "python",
   "nbconvert_exporter": "python",
   "pygments_lexer": "ipython3",
   "version": "3.7.3"
  },
  "pycharm": {
   "stem_cell": {
    "cell_type": "raw",
    "metadata": {
     "collapsed": false
    },
    "source": []
   }
  }
 },
 "nbformat": 4,
 "nbformat_minor": 1
}
